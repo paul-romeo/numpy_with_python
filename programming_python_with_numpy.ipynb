{
 "metadata": {
  "language_info": {
   "codemirror_mode": {
    "name": "ipython",
    "version": 3
   },
   "file_extension": ".py",
   "mimetype": "text/x-python",
   "name": "python",
   "nbconvert_exporter": "python",
   "pygments_lexer": "ipython3",
   "version": "3.8.5-final"
  },
  "orig_nbformat": 2,
  "kernelspec": {
   "name": "python38564bitb7a15ca74f72451c945c2980c2516e34",
   "display_name": "Python 3.8.5 64-bit",
   "language": "python"
  }
 },
 "nbformat": 4,
 "nbformat_minor": 2,
 "cells": [
  {
   "cell_type": "code",
   "execution_count": 2,
   "metadata": {},
   "outputs": [],
   "source": [
    "import numpy as np \n"
   ]
  },
  {
   "source": [],
   "cell_type": "markdown",
   "metadata": {}
  },
  {
   "source": [
    "THE BASICS "
   ],
   "cell_type": "markdown",
   "metadata": {}
  },
  {
   "cell_type": "code",
   "execution_count": 23,
   "metadata": {},
   "outputs": [
    {
     "output_type": "stream",
     "name": "stdout",
     "text": [
      "[1 2 3]\n\"a\" array dimension:\" 1-D\n\"a\" shape: (3,)\n\"a\" data type: int64\n"
     ]
    }
   ],
   "source": [
    "# One-Dimensional array \n",
    "a = np.array([1, 2, 3])\n",
    "\n",
    "print(a)\n",
    "print(f'\"a\" array dimension:\" {a.ndim}-D')   \n",
    "print(f'\"a\" shape: {a.shape}')\n",
    "print(f'\"a\" data type: {a.dtype}')  # dtype is default to int64 on the 64-bit python "
   ]
  },
  {
   "cell_type": "code",
   "execution_count": null,
   "metadata": {},
   "outputs": [],
   "source": []
  },
  {
   "cell_type": "code",
   "execution_count": 24,
   "metadata": {},
   "outputs": [
    {
     "output_type": "stream",
     "name": "stdout",
     "text": [
      "[[9. 8. 7.]\n [5. 4. 3.]]\n\"b\" array dimension:\" 2-D\n\"b\" shape: (2, 3)\n\"b\" data type: float64\n"
     ]
    }
   ],
   "source": [
    "# 2-D array \n",
    "b = np.array([[9.,8.,7.], [5., 4., 3.]])\n",
    "\n",
    "print(b)\n",
    "print(f'\"b\" array dimension:\" {b.ndim}-D')\n",
    "print(f'\"b\" shape: {b.shape}')\n",
    "print(f'\"b\" data type: {b.dtype}')  # dtype is default to float64 for float number on the 64-bit python "
   ]
  },
  {
   "cell_type": "code",
   "execution_count": 7,
   "metadata": {},
   "outputs": [
    {
     "output_type": "stream",
     "name": "stdout",
     "text": [
      "[4 5 6 7]\n\"c\" integer type: int16\n\"c\" item size: 2 bytes\n\"c\" takes 8 bytes\n\"c\" occupies: 8 bytes\n"
     ]
    }
   ],
   "source": [
    "# Specify dtype to int16 \n",
    "c = np.array([4, 5, 6, 7], dtype='int16')\n",
    "\n",
    "print(c)\n",
    "print(f'\"c\" integer type: {c.dtype}')\n",
    "print(f'\"c\" item size: {c.itemsize} bytes')\n",
    "print(f'\"c\" takes {c.size * c.itemsize} bytes')\n",
    "print(f'\"c\" occupies: {c.nbytes} bytes') # int16 (=2 bytes) * 4 = 8 bytes\n"
   ]
  },
  {
   "source": [
    "ACCESSING, CHANGING SPECIFIC ELEMENT, ROWS, COLUMNS "
   ],
   "cell_type": "markdown",
   "metadata": {}
  },
  {
   "cell_type": "code",
   "execution_count": 45,
   "metadata": {},
   "outputs": [
    {
     "output_type": "stream",
     "name": "stdout",
     "text": [
      "[[ 1  2  3  4  5  6  7]\n [ 8  9 10 11 12 13 14]]\n"
     ]
    }
   ],
   "source": [
    "a = np.array([[1,2,3,4,5,6,7], [8,9,10,11,12,13,14]])\n",
    "\n",
    "print(a)"
   ]
  },
  {
   "cell_type": "code",
   "execution_count": 51,
   "metadata": {},
   "outputs": [
    {
     "output_type": "stream",
     "name": "stdout",
     "text": [
      "The element of array \"a\" in [1,5]: 13\nThe element of array \"a\" in [1,-2]: 13\n"
     ]
    }
   ],
   "source": [
    "# Get specific element by [row, column]. Note: the array is 0-based \n",
    "#   for example: get element in the 2nd row, 6th column [1, 5] returns value of 13\n",
    "print(f'The element of array \"a\" in [1,5]: {a[1,5]}')\n",
    "print(f'The element of array \"a\" in [1,-2]: {a[1,-2]}')  # row 1, the column before the last one"
   ]
  },
  {
   "cell_type": "code",
   "execution_count": 52,
   "metadata": {},
   "outputs": [
    {
     "output_type": "stream",
     "name": "stdout",
     "text": [
      "[1 2 3 4 5 6 7]\n"
     ]
    }
   ],
   "source": [
    "# Display all elements of the first row \n",
    "print(a[0, :])"
   ]
  },
  {
   "cell_type": "code",
   "execution_count": 53,
   "metadata": {},
   "outputs": [
    {
     "output_type": "stream",
     "name": "stdout",
     "text": [
      "[ 3 10]\n"
     ]
    }
   ],
   "source": [
    "# Display all elements of the 3th column (i.e. column 2)\n",
    "print(a[:, 2])"
   ]
  },
  {
   "cell_type": "code",
   "execution_count": 54,
   "metadata": {},
   "outputs": [
    {
     "output_type": "stream",
     "name": "stdout",
     "text": [
      "[2 4 6]\n"
     ]
    }
   ],
   "source": [
    "# Display elements on row from the start of index to end of the index (exclude the element at the end of index with step size [start_index:end_index:step_size])\n",
    "print(a[0, 1:6:2])"
   ]
  },
  {
   "cell_type": "code",
   "execution_count": 55,
   "metadata": {},
   "outputs": [
    {
     "output_type": "stream",
     "name": "stdout",
     "text": [
      "[[ 1  2  3  4  5  6  7]\n [ 8  9 10 11 12 20 14]]\n"
     ]
    }
   ],
   "source": [
    "# Change the value of a[1,5] to 20\n",
    "a[1,5]= 20\n",
    "\n",
    "print(a)"
   ]
  },
  {
   "cell_type": "code",
   "execution_count": 57,
   "metadata": {},
   "outputs": [
    {
     "output_type": "stream",
     "name": "stdout",
     "text": [
      "[[ 1  2  3  5  5  6  7]\n [ 8  9 10  5 12 20 14]]\n"
     ]
    }
   ],
   "source": [
    "# Replace all elements in the fourth column (i.e., 3) to value of 5 \n",
    "a[:, 3] = 5\n",
    "\n",
    "print(a)"
   ]
  },
  {
   "cell_type": "code",
   "execution_count": 58,
   "metadata": {},
   "outputs": [
    {
     "output_type": "stream",
     "name": "stdout",
     "text": [
      "[[ 1  2  3  1  5  6  7]\n [ 8  9 10  2 12 20 14]]\n"
     ]
    }
   ],
   "source": [
    "# Replace elements in the fourth column (i.e. 3) to values 1 and 2 respectively\n",
    "a[:, 3] = [1, 2]\n",
    "\n",
    "print(a)"
   ]
  },
  {
   "cell_type": "code",
   "execution_count": null,
   "metadata": {},
   "outputs": [],
   "source": [
    "# 3-D Example "
   ]
  },
  {
   "cell_type": "code",
   "execution_count": 4,
   "metadata": {},
   "outputs": [
    {
     "output_type": "stream",
     "name": "stdout",
     "text": [
      "(2, 2, 2)\n[[[1 2]\n  [3 4]]\n\n [[5 6]\n  [7 8]]]\n"
     ]
    }
   ],
   "source": [
    "import numpy as np \n",
    "\n",
    "b = np.array([[[1,2],[3,4]], [[5,6], [7,8] ]])\n",
    "\n",
    "print(b.shape)  # can't envision how its 3-D look like \n",
    "print(b)"
   ]
  },
  {
   "cell_type": "code",
   "execution_count": 6,
   "metadata": {},
   "outputs": [
    {
     "output_type": "execute_result",
     "data": {
      "text/plain": [
       "array([[3, 4],\n",
       "       [7, 8]])"
      ]
     },
     "metadata": {},
     "execution_count": 6
    }
   ],
   "source": [
    "# Get specific element (working outside in)\n",
    "b[:, 1, :]"
   ]
  },
  {
   "cell_type": "code",
   "execution_count": 8,
   "metadata": {},
   "outputs": [
    {
     "output_type": "stream",
     "name": "stdout",
     "text": [
      "[[[1 2]\n  [9 9]]\n\n [[5 6]\n  [8 8]]]\n"
     ]
    }
   ],
   "source": [
    "# Replace values \n",
    "b[:, 1, :] = [[9,9], [8,8]]\n",
    "\n",
    "print(b)"
   ]
  },
  {
   "source": [
    "INITIALIZE DIFFERENT TYPES OF ARRAYS "
   ],
   "cell_type": "markdown",
   "metadata": {}
  },
  {
   "cell_type": "code",
   "execution_count": 9,
   "metadata": {},
   "outputs": [
    {
     "output_type": "execute_result",
     "data": {
      "text/plain": [
       "array([0., 0., 0., 0., 0.])"
      ]
     },
     "metadata": {},
     "execution_count": 9
    }
   ],
   "source": [
    "# Initialize 1-D matrix to all (5) 0's \n",
    "np.zeros(5)     # use one pair of parentheses for 1-D "
   ]
  },
  {
   "cell_type": "code",
   "execution_count": 11,
   "metadata": {},
   "outputs": [
    {
     "output_type": "execute_result",
     "data": {
      "text/plain": [
       "array([[0., 0., 0.],\n",
       "       [0., 0., 0.]])"
      ]
     },
     "metadata": {},
     "execution_count": 11
    }
   ],
   "source": [
    "# Initialize 2-D matrix (two rows, 3 columns) to all 0's \n",
    "np.zeros((2,3))     # use two pairs of parentheses for 2-D "
   ]
  },
  {
   "cell_type": "code",
   "execution_count": 12,
   "metadata": {},
   "outputs": [
    {
     "output_type": "execute_result",
     "data": {
      "text/plain": [
       "array([[[0., 0., 0.],\n",
       "        [0., 0., 0.],\n",
       "        [0., 0., 0.]],\n",
       "\n",
       "       [[0., 0., 0.],\n",
       "        [0., 0., 0.],\n",
       "        [0., 0., 0.]]])"
      ]
     },
     "metadata": {},
     "execution_count": 12
    }
   ],
   "source": [
    "# Initialize 3-D matrix (two rows, 3 columns, 3 depths) to all 0's \n",
    "np.zeros(((2,3,3)))     # use three pairs of parentheses for 3-D "
   ]
  },
  {
   "cell_type": "code",
   "execution_count": 14,
   "metadata": {},
   "outputs": [
    {
     "output_type": "execute_result",
     "data": {
      "text/plain": [
       "array([[[1, 1],\n",
       "        [1, 1]],\n",
       "\n",
       "       [[1, 1],\n",
       "        [1, 1]],\n",
       "\n",
       "       [[1, 1],\n",
       "        [1, 1]],\n",
       "\n",
       "       [[1, 1],\n",
       "        [1, 1]]], dtype=int32)"
      ]
     },
     "metadata": {},
     "execution_count": 14
    }
   ],
   "source": [
    "# Initialize 3-D matrix (four rows, 2 columns, 2 depths) to all 1's \n",
    "np.ones((4,2,2), dtype='int32')"
   ]
  },
  {
   "cell_type": "code",
   "execution_count": 15,
   "metadata": {},
   "outputs": [
    {
     "output_type": "execute_result",
     "data": {
      "text/plain": [
       "array([[99., 99.],\n",
       "       [99., 99.]], dtype=float32)"
      ]
     },
     "metadata": {},
     "execution_count": 15
    }
   ],
   "source": [
    "# Initialize to other values (99)\n",
    "np.full((2,2), 99, dtype='float32')"
   ]
  },
  {
   "cell_type": "code",
   "execution_count": 18,
   "metadata": {},
   "outputs": [
    {
     "output_type": "stream",
     "name": "stdout",
     "text": [
      "[[ 1  2  3  4  5  6  7]\n [ 8  9 10 11 12 13 14]]\n"
     ]
    },
    {
     "output_type": "execute_result",
     "data": {
      "text/plain": [
       "array([[4, 4, 4, 4, 4, 4, 4],\n",
       "       [4, 4, 4, 4, 4, 4, 4]])"
      ]
     },
     "metadata": {},
     "execution_count": 18
    }
   ],
   "source": [
    "# Initialize to other values (4) using full_like method and the existing array structure  \n",
    "a = np.array([[1,2,3,4,5,6,7], [8,9,10,11,12,13,14]])\n",
    "\n",
    "print(a)\n",
    "np.full_like(a, 4)"
   ]
  },
  {
   "cell_type": "code",
   "execution_count": 19,
   "metadata": {},
   "outputs": [
    {
     "output_type": "execute_result",
     "data": {
      "text/plain": [
       "array([[0.17204752, 0.68427251],\n",
       "       [0.25616489, 0.23743295],\n",
       "       [0.53601956, 0.5295667 ],\n",
       "       [0.51283903, 0.27000454]])"
      ]
     },
     "metadata": {},
     "execution_count": 19
    }
   ],
   "source": [
    "# Fill a 2-D array of four rows, 2 columns with random decimal float value from 0 to 0.99 \n",
    "np.random.rand(4,2) "
   ]
  },
  {
   "cell_type": "code",
   "execution_count": 20,
   "metadata": {},
   "outputs": [
    {
     "output_type": "execute_result",
     "data": {
      "text/plain": [
       "array([[2, 3, 5],\n",
       "       [0, 0, 6],\n",
       "       [2, 6, 5]])"
      ]
     },
     "metadata": {},
     "execution_count": 20
    }
   ],
   "source": [
    "# Fill a 2-D array of 3x3 with random integer values of 0 to 6 (excluding 7)\n",
    "np.random.randint(7, size=(3,3))"
   ]
  },
  {
   "cell_type": "code",
   "execution_count": 21,
   "metadata": {},
   "outputs": [
    {
     "output_type": "execute_result",
     "data": {
      "text/plain": [
       "array([[4, 4, 6],\n",
       "       [5, 6, 6],\n",
       "       [6, 4, 6]])"
      ]
     },
     "metadata": {},
     "execution_count": 21
    }
   ],
   "source": [
    "# Fill a 2-D matrix of 3x3 with random integer values of 4 to 6 (excluding 7)\n",
    "np.random.randint(4,7, size=(3,3))"
   ]
  },
  {
   "cell_type": "code",
   "execution_count": 24,
   "metadata": {},
   "outputs": [
    {
     "output_type": "execute_result",
     "data": {
      "text/plain": [
       "array([[1., 0., 0., 0., 0.],\n",
       "       [0., 1., 0., 0., 0.],\n",
       "       [0., 0., 1., 0., 0.],\n",
       "       [0., 0., 0., 1., 0.],\n",
       "       [0., 0., 0., 0., 1.]])"
      ]
     },
     "metadata": {},
     "execution_count": 24
    }
   ],
   "source": [
    "# Generate an identity 2-D matrix of 5x5 (each row has a walking 1)\n",
    "np.identity(5)"
   ]
  },
  {
   "cell_type": "code",
   "execution_count": 30,
   "metadata": {},
   "outputs": [
    {
     "output_type": "stream",
     "name": "stdout",
     "text": [
      "[1 2 3]\n"
     ]
    },
    {
     "output_type": "error",
     "ename": "NameError",
     "evalue": "name 'axis1' is not defined",
     "traceback": [
      "\u001b[0;31m---------------------------------------------------------------------------\u001b[0m",
      "\u001b[0;31mNameError\u001b[0m                                 Traceback (most recent call last)",
      "\u001b[0;32m<ipython-input-30-ee75d73cb079>\u001b[0m in \u001b[0;36m<module>\u001b[0;34m\u001b[0m\n\u001b[1;32m      5\u001b[0m \u001b[0;34m\u001b[0m\u001b[0m\n\u001b[1;32m      6\u001b[0m \u001b[0;31m# repeat matrix a 3 times\u001b[0m\u001b[0;34m\u001b[0m\u001b[0;34m\u001b[0m\u001b[0;34m\u001b[0m\u001b[0m\n\u001b[0;32m----> 7\u001b[0;31m \u001b[0mr1\u001b[0m \u001b[0;34m=\u001b[0m \u001b[0mnp\u001b[0m\u001b[0;34m.\u001b[0m\u001b[0mrepeat\u001b[0m\u001b[0;34m(\u001b[0m\u001b[0ma\u001b[0m\u001b[0;34m,\u001b[0m \u001b[0;36m3\u001b[0m\u001b[0;34m,\u001b[0m \u001b[0maxis1\u001b[0m\u001b[0;34m)\u001b[0m\u001b[0;34m\u001b[0m\u001b[0;34m\u001b[0m\u001b[0m\n\u001b[0m",
      "\u001b[0;31mNameError\u001b[0m: name 'axis1' is not defined"
     ]
    }
   ],
   "source": [
    "# Repeat an array \n",
    "a = np.array([1,2,3])\n",
    "\n",
    "print(a)\n",
    "\n",
    "# repeat matrix a 3 times \n",
    "r1 = np.repeat(a, 3, axis1)"
   ]
  },
  {
   "cell_type": "code",
   "execution_count": 40,
   "metadata": {},
   "outputs": [
    {
     "output_type": "stream",
     "name": "stdout",
     "text": [
      "[[1 1 1 1 1]\n [1 1 1 1 1]\n [1 1 1 1 1]\n [1 1 1 1 1]\n [1 1 1 1 1]]\n\n[[0 0 0]\n [0 9 0]\n [0 0 0]]\n\n[[1 1 1 1 1]\n [1 0 0 0 1]\n [1 0 9 0 1]\n [1 0 0 0 1]\n [1 1 1 1 1]]\n"
     ]
    }
   ],
   "source": [
    "# Generate a 5x5 matrix with all 1's \n",
    "output = np.ones((5,5), dtype='int8')\n",
    "print(output)\n",
    "print()\n",
    "\n",
    "# Generate a 3x3 matrix with all 0's\n",
    "zero_with_9_at_center = np.zeros((3,3), dtype='int8')\n",
    "\n",
    "# Replace the value of 0 at the center of 3x3 matrix with \"9\"\n",
    "zero_with_9_at_center[1,1] = 9\n",
    "print(zero_with_9_at_center)\n",
    "print()\n",
    "\n",
    "# Replace the values at the specified locations in the 5x5 matrix with values from the 3x3 matrix \n",
    "output[1:4, 1:4] = zero_with_9_at_center \n",
    "print(output)"
   ]
  },
  {
   "cell_type": "code",
   "execution_count": 42,
   "metadata": {},
   "outputs": [
    {
     "output_type": "stream",
     "name": "stdout",
     "text": [
      "[1 2 3]\n[  1 100   3]\n"
     ]
    }
   ],
   "source": [
    "# Be caution when copying a matrix. Must be np.copy method \n",
    "a = np.array([1,2,3])\n",
    "b = a.copy()\n",
    "b[1] = 100 \n",
    "\n",
    "print(a)\n",
    "print(b)"
   ]
  },
  {
   "cell_type": "code",
   "execution_count": 47,
   "metadata": {},
   "outputs": [
    {
     "output_type": "stream",
     "name": "stdout",
     "text": [
      "Before:\n[1 2 3]\n\nAfter:\nvalue of matrix c: [  1 100   3]\nvalue of matrix a: [  1 100   3]\nConclusion: c is just a pointer to matrix a\n"
     ]
    }
   ],
   "source": [
    "# If attempt to duplicate a matrix without np.copy() method, it's just a pointer to the same matrix \n",
    "print(\"Before:\")\n",
    "a = np.array([1,2,3])\n",
    "print(a)\n",
    "print()\n",
    "\n",
    "c = a \n",
    "c[1] = 100 \n",
    "\n",
    "print(\"After:\")\n",
    "print(f'value of matrix c: {c}')\n",
    "print(f'value of matrix a: {a}')\n",
    "print(\"Conclusion: c is just a pointer to matrix a\")\n"
   ]
  }
 ]
}