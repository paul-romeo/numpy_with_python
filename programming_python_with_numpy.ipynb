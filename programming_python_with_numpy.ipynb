{
 "metadata": {
  "language_info": {
   "codemirror_mode": {
    "name": "ipython",
    "version": 3
   },
   "file_extension": ".py",
   "mimetype": "text/x-python",
   "name": "python",
   "nbconvert_exporter": "python",
   "pygments_lexer": "ipython3",
   "version": "3.8.5-final"
  },
  "orig_nbformat": 2,
  "kernelspec": {
   "name": "python38564bitb7a15ca74f72451c945c2980c2516e34",
   "display_name": "Python 3.8.5 64-bit",
   "language": "python"
  }
 },
 "nbformat": 4,
 "nbformat_minor": 2,
 "cells": [
  {
   "cell_type": "code",
   "execution_count": 2,
   "metadata": {},
   "outputs": [],
   "source": [
    "import numpy as np \n"
   ]
  },
  {
   "source": [],
   "cell_type": "markdown",
   "metadata": {}
  },
  {
   "source": [
    "THE BASICS "
   ],
   "cell_type": "markdown",
   "metadata": {}
  },
  {
   "cell_type": "code",
   "execution_count": 23,
   "metadata": {},
   "outputs": [
    {
     "output_type": "stream",
     "name": "stdout",
     "text": [
      "[1 2 3]\n\"a\" array dimension:\" 1-D\n\"a\" shape: (3,)\n\"a\" data type: int64\n"
     ]
    }
   ],
   "source": [
    "# One-Dimensional array \n",
    "a = np.array([1, 2, 3])\n",
    "\n",
    "print(a)\n",
    "print(f'\"a\" array dimension:\" {a.ndim}-D')   \n",
    "print(f'\"a\" shape: {a.shape}')\n",
    "print(f'\"a\" data type: {a.dtype}')  # dtype is default to int64 on the 64-bit python "
   ]
  },
  {
   "cell_type": "code",
   "execution_count": null,
   "metadata": {},
   "outputs": [],
   "source": []
  },
  {
   "cell_type": "code",
   "execution_count": 24,
   "metadata": {},
   "outputs": [
    {
     "output_type": "stream",
     "name": "stdout",
     "text": [
      "[[9. 8. 7.]\n [5. 4. 3.]]\n\"b\" array dimension:\" 2-D\n\"b\" shape: (2, 3)\n\"b\" data type: float64\n"
     ]
    }
   ],
   "source": [
    "# 2-D array \n",
    "b = np.array([[9.,8.,7.], [5., 4., 3.]])\n",
    "\n",
    "print(b)\n",
    "print(f'\"b\" array dimension:\" {b.ndim}-D')\n",
    "print(f'\"b\" shape: {b.shape}')\n",
    "print(f'\"b\" data type: {b.dtype}')  # dtype is default to float64 for float number on the 64-bit python "
   ]
  },
  {
   "cell_type": "code",
   "execution_count": 44,
   "metadata": {},
   "outputs": [
    {
     "output_type": "stream",
     "name": "stdout",
     "text": [
      "[4 5 6 7]\n\"c\" integer type: int16\n\"c\" number of bytes: 8\n"
     ]
    }
   ],
   "source": [
    "# Specify dtype to int16 \n",
    "c = np.array([4, 5, 6, 7], dtype='int16')\n",
    "\n",
    "print(c)\n",
    "print(f'\"c\" integer type: {c.dtype}')\n",
    "print(f'\"c\" number of bytes: {c.nbytes}') # int16 (=2 bytes) * 4 = 8 bytes\n"
   ]
  },
  {
   "source": [
    "ACCESSING, CHANGING SPECIFIC ELEMENT, ROWS, COLUMNS "
   ],
   "cell_type": "markdown",
   "metadata": {}
  },
  {
   "cell_type": "code",
   "execution_count": 45,
   "metadata": {},
   "outputs": [
    {
     "output_type": "stream",
     "name": "stdout",
     "text": [
      "[[ 1  2  3  4  5  6  7]\n [ 8  9 10 11 12 13 14]]\n"
     ]
    }
   ],
   "source": [
    "a = np.array([[1,2,3,4,5,6,7], [8,9,10,11,12,13,14]])\n",
    "\n",
    "print(a)"
   ]
  },
  {
   "cell_type": "code",
   "execution_count": 51,
   "metadata": {},
   "outputs": [
    {
     "output_type": "stream",
     "name": "stdout",
     "text": [
      "The element of array \"a\" in [1,5]: 13\nThe element of array \"a\" in [1,-2]: 13\n"
     ]
    }
   ],
   "source": [
    "# Get specific element by [row, column]. Note: the array is 0-based \n",
    "#   for example: get element in the 2nd row, 6th column [1, 5] returns value of 13\n",
    "print(f'The element of array \"a\" in [1,5]: {a[1,5]}')\n",
    "print(f'The element of array \"a\" in [1,-2]: {a[1,-2]}')  # row 1, the column before the last one"
   ]
  },
  {
   "cell_type": "code",
   "execution_count": 52,
   "metadata": {},
   "outputs": [
    {
     "output_type": "stream",
     "name": "stdout",
     "text": [
      "[1 2 3 4 5 6 7]\n"
     ]
    }
   ],
   "source": [
    "# Display all elements of the first row \n",
    "print(a[0, :])"
   ]
  },
  {
   "cell_type": "code",
   "execution_count": 53,
   "metadata": {},
   "outputs": [
    {
     "output_type": "stream",
     "name": "stdout",
     "text": [
      "[ 3 10]\n"
     ]
    }
   ],
   "source": [
    "# Display all elements of the 3th column (i.e. column 2)\n",
    "print(a[:, 2])"
   ]
  },
  {
   "cell_type": "code",
   "execution_count": 54,
   "metadata": {},
   "outputs": [
    {
     "output_type": "stream",
     "name": "stdout",
     "text": [
      "[2 4 6]\n"
     ]
    }
   ],
   "source": [
    "# Display elements on row from the start of index to end of the index (exclude the element at the end of index with step size [start_index:end_index:step_size])\n",
    "print(a[0, 1:6:2])"
   ]
  },
  {
   "cell_type": "code",
   "execution_count": 55,
   "metadata": {},
   "outputs": [
    {
     "output_type": "stream",
     "name": "stdout",
     "text": [
      "[[ 1  2  3  4  5  6  7]\n [ 8  9 10 11 12 20 14]]\n"
     ]
    }
   ],
   "source": [
    "# Change the value of a[1,5] to 20\n",
    "a[1,5]= 20\n",
    "\n",
    "print(a)"
   ]
  },
  {
   "cell_type": "code",
   "execution_count": 57,
   "metadata": {},
   "outputs": [
    {
     "output_type": "stream",
     "name": "stdout",
     "text": [
      "[[ 1  2  3  5  5  6  7]\n [ 8  9 10  5 12 20 14]]\n"
     ]
    }
   ],
   "source": [
    "# Replace all elements in the fourth column (i.e., 3) to value of 5 \n",
    "a[:, 3] = 5\n",
    "\n",
    "print(a)"
   ]
  },
  {
   "cell_type": "code",
   "execution_count": 58,
   "metadata": {},
   "outputs": [
    {
     "output_type": "stream",
     "name": "stdout",
     "text": [
      "[[ 1  2  3  1  5  6  7]\n [ 8  9 10  2 12 20 14]]\n"
     ]
    }
   ],
   "source": [
    "# Replace elements in the fourth column (i.e. 3) to values 1 and 2 respectively\n",
    "a[:, 3] = [1, 2]\n",
    "\n",
    "print(a)"
   ]
  }
 ]
}